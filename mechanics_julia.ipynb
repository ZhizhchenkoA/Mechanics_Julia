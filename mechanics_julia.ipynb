{
  "nbformat": 4,
  "nbformat_minor": 0,
  "metadata": {
    "colab": {
      "provenance": [],
      "cell_execution_strategy": "setup",
      "authorship_tag": "ABX9TyPMSVSk/F2SqPMHOyqEfqFA"
    },
    "kernelspec": {
      "name": "julia",
      "display_name": "julia 1.8.2"
    }
  },
  "cells": [
    {
      "cell_type": "markdown",
      "source": [
        "<a href=\"https://colab.research.google.com/drive/1FLlrv4fzFqGv4mpMGHt22x37ljxj2xTR?usp=sharing\" target=\"_parent\"><img src=\"https://colab.research.google.com/assets/colab-badge.svg\" alt=\"Open In Colab\"/></a>"
      ],
      "metadata": {
        "id": "c5cqkuNIzeuu"
      }
    },
    {
      "cell_type": "markdown",
      "source": [
        "<h1 align=\"center\">Научно-исследовательская работа</h1>\n",
        "\n",
        "<h2 align=\"center\"><b>\"Численное моделирование механических систем\"</b></h2>\n",
        "\n",
        "<i>Выполнили:\n",
        "* Липская Мария\n",
        "* Карасева Ольга\n",
        "* Жижченко Александр\n",
        "* Пругло Иван  \n",
        "\n",
        "Научный руководитель:\n",
        "* Федоров Владимир Сергеевич\n",
        "\n",
        "*Цели работы*:\n",
        "* научиться численно моделировать механические системы\n",
        "* изучить решения ограниченной задачи трёх тел\n",
        "* разобраться с положением равновесия в точках Лагранжа"
      ],
      "metadata": {
        "id": "0drArOIDsG__"
      }
    },
    {
      "cell_type": "markdown",
      "source": [
        "<h1 align=\"center\"><b>Введение</b></h1>\n",
        "\n",
        "_________________\n",
        "  \n",
        "<h2 align=\"center\"><i><b>Основные используемые понятия</b></i></h2>\n",
        "\n",
        "1. *Точки Лагранжа* - точки в системе из двух массивных тел, в которых третье тело с пренебрежимо малой массой, не испытывающее воздействия никаких других сил, кроме гравитационных со стороны двух первых тел, может оставаться неподвижным относительно этих тел.\n",
        "\n",
        "1. *Полость Роша* - область вокруг объекта в двойной системе, границей которой служит эквипотенциальная поверхность, содержащая первую точку Лагранжа $L_1$\n",
        "\n",
        "1. *Сфера Хилла* - пространство вокруг объекта, на котором он может удерживать спутники\n",
        "1. *Гамильтониан* - основная функция, используемая в механике и динамике Гамильтона  \n",
        "*Вид гамильтониана, используемый в работе:*\n",
        "\n",
        "$$\n",
        "  H(x, y, p_x, p_y) = \\frac{(p_x + y)^2 + (p_y - x)^2}{2} - U(x, y)\n",
        "$$\n",
        "\n",
        "\n",
        "5. *Лагранжиан* - функция описание динамической системы через обобщённые координаты (координаты $(x, y)$ и скорости $(\\dot x, \\dot y)$). Общий вид:\n",
        "$L(x, y, \\dot x, \\dot y) = T - U(x, y)$.\n",
        "\n",
        "*(Остальные необходимые определения указаны в нужных ячейках)*"
      ],
      "metadata": {
        "id": "qVqI7OpksLLN"
      }
    },
    {
      "cell_type": "markdown",
      "source": [
        "Для начала необходимо скачать компилятор Julia\n",
        "\n"
      ],
      "metadata": {
        "id": "0hlqzNdC0W-3"
      }
    },
    {
      "cell_type": "code",
      "execution_count": 1,
      "metadata": {
        "cellView": "form",
        "id": "xrZ7-QSHzWaZ",
        "colab": {
          "base_uri": "https://localhost:8080/",
          "height": 87
        },
        "outputId": "2b8e0c6c-ed81-4c81-dd78-ae395ca1b934"
      },
      "outputs": [
        {
          "output_type": "display_data",
          "data": {
            "text/plain": [
              "  Unrecognized magic \u001b[36m%%shell\u001b[39m.\n",
              "\n",
              "  Julia does not use the IPython \u001b[36m%magic\u001b[39m syntax. To interact with the IJulia\n",
              "  kernel, use \u001b[36mIJulia.somefunction(...)\u001b[39m, for example. Julia macros, string\n",
              "  macros, and functions can be used to accomplish most of the other\n",
              "  functionalities of IPython magics."
            ],
            "text/markdown": "Unrecognized magic `%%shell`.\n\nJulia does not use the IPython `%magic` syntax.   To interact with the IJulia kernel, use `IJulia.somefunction(...)`, for example.  Julia macros, string macros, and functions can be used to accomplish most of the other functionalities of IPython magics.\n",
            "text/latex": "Unrecognized magic \\texttt{\\%\\%shell}.\n\nJulia does not use the IPython \\texttt{\\%magic} syntax.   To interact with the IJulia kernel, use \\texttt{IJulia.somefunction(...)}, for example.  Julia macros, string macros, and functions can be used to accomplish most of the other functionalities of IPython magics.\n\n"
          },
          "metadata": {}
        }
      ],
      "source": [
        "# @title Запуск Julia\n",
        "%%shell\n",
        "set -e\n",
        "\n",
        "#---------------------------------------------------#\n",
        "JULIA_VERSION=\"1.8.2\" # any version ≥ 0.7.0\n",
        "JULIA_PACKAGES=\"IJulia BenchmarkTools\"\n",
        "JULIA_PACKAGES_IF_GPU=\"CUDA\" # or CuArrays for older Julia versions\n",
        "JULIA_NUM_THREADS=2\n",
        "#---------------------------------------------------#\n",
        "\n",
        "if [ -z `which julia` ]; then\n",
        "  # Install Julia\n",
        "  JULIA_VER=`cut -d '.' -f -2 <<< \"$JULIA_VERSION\"`\n",
        "  echo \"Installing Julia $JULIA_VERSION on the current Colab Runtime...\"\n",
        "  BASE_URL=\"https://julialang-s3.julialang.org/bin/linux/x64\"\n",
        "  URL=\"$BASE_URL/$JULIA_VER/julia-$JULIA_VERSION-linux-x86_64.tar.gz\"\n",
        "  wget -nv $URL -O /tmp/julia.tar.gz # -nv means \"not verbose\"\n",
        "  tar -x -f /tmp/julia.tar.gz -C /usr/local --strip-components 1\n",
        "  rm /tmp/julia.tar.gz\n",
        "\n",
        "  # Install Packages\n",
        "  nvidia-smi -L &> /dev/null && export GPU=1 || export GPU=0\n",
        "  if [ $GPU -eq 1 ]; then\n",
        "    JULIA_PACKAGES=\"$JULIA_PACKAGES $JULIA_PACKAGES_IF_GPU\"\n",
        "  fi\n",
        "  for PKG in `echo $JULIA_PACKAGES`; do\n",
        "    echo \"Installing Julia package $PKG...\"\n",
        "    julia -e 'using Pkg; pkg\"add '$PKG'; precompile;\"' &> /dev/null\n",
        "  done\n",
        "\n",
        "  # Install kernel and rename it to \"julia\"\n",
        "  echo \"Installing IJulia kernel...\"\n",
        "  julia -e 'using IJulia; IJulia.installkernel(\"julia\", env=Dict(\n",
        "      \"JULIA_NUM_THREADS\"=>\"'\"$JULIA_NUM_THREADS\"'\"))'\n",
        "  KERNEL_DIR=`julia -e \"using IJulia; print(IJulia.kerneldir())\"`\n",
        "  KERNEL_NAME=`ls -d \"$KERNEL_DIR\"/julia*`\n",
        "  mv -f $KERNEL_NAME \"$KERNEL_DIR\"/julia\n",
        "\n",
        "  echo ''\n",
        "  echo \"Successfully installed `julia -v`!\"\n",
        "  echo \"Please reload this page (press Ctrl+R, ⌘+R, or the F5 key) then\"\n",
        "  echo \"jump to the 'Checking the Installation' section.\"\n",
        "fi"
      ]
    },
    {
      "cell_type": "markdown",
      "source": [
        "Подключение необходимых библиотек"
      ],
      "metadata": {
        "id": "FGUaiqeU_GDG"
      }
    },
    {
      "cell_type": "code",
      "source": [
        "using REPL.REPLCompletions: latex_symbols, emoji_symbols\n",
        "import Pkg; Pkg.add(\"Plots\")\n",
        "import Pkg; Pkg.add(\"Images\")\n",
        "using Images\n",
        "using Plots"
      ],
      "metadata": {
        "id": "GHl1lnOSKz7E",
        "colab": {
          "base_uri": "https://localhost:8080/"
        },
        "outputId": "7cc5e4c9-028c-454e-badd-0754e46d0b19"
      },
      "execution_count": 40,
      "outputs": [
        {
          "output_type": "stream",
          "name": "stderr",
          "text": [
            "\u001b[32m  ✓ \u001b[39m\u001b[90mImageFiltering\u001b[39m\n",
            "\u001b[32m  ✓ \u001b[39m\u001b[90mImageQualityIndexes\u001b[39m\n",
            "\u001b[32m  ✓ \u001b[39m\u001b[90mImageSegmentation\u001b[39m\n",
            "\u001b[32m  ✓ \u001b[39m\u001b[90mImageCorners\u001b[39m\n",
            "\u001b[32m  ✓ \u001b[39mImages\n",
            "  114 dependencies successfully precompiled in 296 seconds. 140 already precompiled.\n",
            "  \u001b[33m4\u001b[39m dependencies precompiled but different versions are currently loaded. Restart julia to access the new versions\n"
          ]
        }
      ]
    },
    {
      "cell_type": "code",
      "source": [
        "mu = 0.2\n",
        "function u(x, y)\n",
        "    r1 = ((x + mu)^2 + y^2)^0.5\n",
        "    r2 = ((x - 1 + mu)^2 + y^2)\n",
        "    return (x^2 + y^2) / 2 + (1 - mu) / r1 + mu / r2 + ((1 - mu) * mu) / 2\n",
        "end\n",
        "\n",
        "function h(x, y, px, py)\n",
        "    \"\"\"Гамильтониан системы\"\"\"\n",
        "    return ((px + y)^2 + (py - x)^2) / 2 - u(x, y)\n",
        "end\n",
        "\n",
        "\n",
        "function diff_u_x(x, y)\n",
        "    \"\"\"Производная в точке от U(x, y) по x\"\"\"\n",
        "    delta = 0.00001\n",
        "    return (-1) * (u(x + delta / 2, y) - u(x - delta / 2, y)) / delta\n",
        "end\n",
        "\n",
        "function diff_u_y(x, y)\n",
        "    \"\"\"Производная в точке от U(x, y) по y\"\"\"\n",
        "    delta = 0.00001\n",
        "    return (-1) * (u(x, y + delta / 2) - u(x, y - delta / 2)) / delta\n",
        "end\n",
        "\n",
        "function x_dot(x, y, px, py)\n",
        "    \"\"\"Скорость по x\"\"\"\n",
        "    return px + y\n",
        "end\n",
        "\n",
        "function y_dot(x, y, px, py)\n",
        "    \"\"\"Скорость по y\"\"\"\n",
        "    return py - x\n",
        "end\n",
        "\n",
        "function px_dot(x, y, px, py)\n",
        "    \"\"\"Производная по px\"\"\"\n",
        "    return py - x + diff_u_x(x, y)\n",
        "end\n",
        "\n",
        "function py_dot(x, y, px, py)\n",
        "    \"\"\"Производная по py\"\"\"\n",
        "    return -px - y + diff_u_y(x, y)\n",
        "end\n",
        "\n",
        "function x_ddot(x, y, px, py)\n",
        "    \"\"\"Вторая производная по x \"\"\"\n",
        "    return px_dot(x, y, px, py) + y_dot(x, y, px, py)\n",
        "end\n",
        "\n",
        "function y_ddot(x, y, px, py)\n",
        "    \"\"\"Вторая производная по Y \"\"\"\n",
        "    return py_dot(x, y, px, py) - x_dot(x, y, px, py)\n",
        "end\n",
        "\n",
        "function all_dots(x, y, px, py, with_second=true)\n",
        "    \"\"\"Все производные: \"\"\"\n",
        "    if with_second\n",
        "        return (x_dot(x, y, px, py), y_dot(x, y, px, py), px_dot(x, y, px, py), py_dot(x, y, px, py), x_ddot(x, y, px, py), y_ddot(x, y, px, py))\n",
        "    else\n",
        "        return (x_dot(x, y, px, py), y_dot(x, y, px, py), px_dot(x, y, px, py), py_dot(x, y, px, py))\n",
        "    end\n",
        "end\n",
        "\n",
        "function velocities_half_delta(x, y, px, py, delta_t)\n",
        "    x_new = x - x_dot(x, y, px, py) * delta_t / 2\n",
        "    y_new = y - y_dot(x, y, px, py) * delta_t / 2\n",
        "    px_new = px - px_dot(x, y, px, py) * delta_t / 2\n",
        "    py_new = py - py_dot(x, y, px, py) * delta_t / 2\n",
        "    return (x_dot(x_new, y_new, px_new, py_new), y_dot(x_new, y_new, px_new, py_new))\n",
        "end\n",
        "\n",
        "function W(x, y)\n",
        "    \"\"\"Функция нормализации значения\"\"\"\n",
        "    return log((abs(diff_u_x(x, y)) + abs(diff_u_y(x, y))), 10)\n",
        "end\n",
        "\n",
        "function h_const(x, y, px=0, py=0)\n",
        "    \"\"\"Подсчёт постоянной Якоби\"\"\"\n",
        "    return 0.5 * (x_dot(x, y, px, py) ^ 2 + y_dot(x, y, px, py) ^ 2) - u(x, y)\n",
        "end\n"
      ],
      "metadata": {
        "colab": {
          "base_uri": "https://localhost:8080/"
        },
        "id": "2TmnDrk3GyP8",
        "outputId": "ad018a4a-2bc2-4d9c-dfe7-e87c15120ec0"
      },
      "execution_count": 19,
      "outputs": [
        {
          "output_type": "execute_result",
          "data": {
            "text/plain": [
              "(2, 0, -0.67415967357487, -2.4202809902986715, -0.67415967357487, -4.4202809902986715)"
            ]
          },
          "metadata": {},
          "execution_count": 19
        }
      ]
    },
    {
      "cell_type": "markdown",
      "source": [
        "<h1 align=\"center\"> Эпизод I<br> <b>Визуализация точек Лагранжа, полости Роша и сферы Хилла</b></h1>\n",
        "\n",
        "_________________\n",
        "Для наглядного представления точек Лагранжа нами была выбрана функция `imshow` из пакета `matplotlib.pyplot`. Она задаёт изображение, как двумерный массив пикселей (в нашем коде массив `DAT`). Его заполнение осуществлялось с помощью перебора значений `i` от 0 до `(lim_x_max - lim_x_min) / step_x` и `j` от 0 до `(lim_y_max - lim_y_min) / step_y`. Каждому пикселю `DAT[i][j]` присваивалось значение `W(i, j)`. Для большей наглядности результата изображение было выведено в чёрно-белом формате `cmap='gray'`\n"
      ],
      "metadata": {
        "id": "IzLe4bB7RPfn"
      }
    },
    {
      "cell_type": "markdown",
      "source": [
        "<h1 align=\"center\"> Эпизод II<br> <b>Нахождение координат точек Лагранжа</b></h1>\n",
        "\n",
        "_______________\n",
        "Для нахождения координат точек Лагранжа, нами использовались массивы,\n",
        "```\n",
        "mx = np.arange(lim_x_min, lim_x_max, step_x)\n",
        "my = np.arange(lim_y_min, lim_y_max, step_y)\n",
        "```\n",
        "которые задаются минимальными значениями, максимальными значениями и шагом изменения с помощью функции `numpy.arrange`. В итоговый массивы точек Лагранжа `ans_x` и `ans_y` заносились координаты, в которых $ \\frac{∂}{\\partial x}U(x, y) = 0$ и $ \\frac{∂}{\\partial y}U(x, y) = 0$ (реализовано с помощью приращений и теоремы Лагранжа)\n",
        "Из массива итоговых точек были исключены координаты центра масс и тел, и получившиеся координаты были добавлены в массивы `L_x` и `L_y` и отсортированы по номеру точки.  \n",
        "Координаты этих точек также задаются формулами:\n",
        "\n",
        "\\begin{gather}\n",
        "L_1 \\:(R(1 - \\sqrt[3]{\\frac{\\mu}{3}},\\; 0))\\\\\n",
        "L_2 \\:(R(1 + \\sqrt[3]{\\frac{\\mu}{3}}, \\; 0)\\\\\n",
        "L_3 \\:(R(1 - \\frac{5}{12}\\mu, \\; 0)\\\\\n",
        "L_4 \\:(\\frac{R}{2} \\cdot \\frac{m_1-m_2}{m_1+m_2}, \\; \\frac{\\sqrt[3]{3}}{2}R)\\\\\n",
        "L_5 \\:(\\frac{R}{2} \\cdot \\frac{m_1-m_2}{m_1+m_2}, \\; -\\frac{\\sqrt[3]{3}}{2}R)\\\\\n",
        "\\end{gather}\n",
        "\n",
        "где:  \n",
        "\n",
        "* $m_1$ - масса большего тела  \n",
        "* $m_2$ - масса меньшего тела   \n",
        "* $R$ - расстояние между телами\n"
      ],
      "metadata": {
        "id": "Np7Yc0a0Iehy"
      }
    },
    {
      "cell_type": "code",
      "source": [
        "DAT = []\n",
        "lim_x_min, lim_x_max = -2, 2\n",
        "step_x = 0.01\n",
        "lim_y_min, lim_y_max = -2, 2\n",
        "step_y = 0.01\n",
        "for (n, x) in enumerate(lim_x_min:step_x:lim_x_max)\n",
        "    push!(DAT, [])\n",
        "    for y in lim_y_min:step_y:lim_y_max\n",
        "        push!(DAT[n], W(x, y))\n",
        "    end\n",
        "end\n",
        "Gray(DAT)"
      ],
      "metadata": {
        "colab": {
          "base_uri": "https://localhost:8080/",
          "height": 317
        },
        "id": "JNHb7OT7Id1V",
        "outputId": "2c99376c-a6fe-41ff-8cfa-330bdf75cf15"
      },
      "execution_count": 43,
      "outputs": [
        {
          "output_type": "error",
          "ename": "LoadError",
          "evalue": "ignored",
          "traceback": [
            "MethodError: \u001b[0mCannot `convert` an object of type \n\u001b[0m  \u001b[92mVector{Any}\u001b[39m\u001b[0m to an object of type \n\u001b[0m  \u001b[91mGray\u001b[39m\n\u001b[0mClosest candidates are:\n\u001b[0m  convert(::Type{C}, \u001b[91m::C\u001b[39m) where C<:Colorant at ~/.julia/packages/ColorTypes/1dGw6/src/conversions.jl:72\n\u001b[0m  convert(::Type{C}, \u001b[91m::Colorant\u001b[39m) where C<:Colorant at ~/.julia/packages/ColorTypes/1dGw6/src/conversions.jl:73\n\u001b[0m  convert(::Type{C}, \u001b[91m::Number\u001b[39m) where C<:Colorant at ~/.julia/packages/ColorTypes/1dGw6/src/conversions.jl:74\n\u001b[0m  ...",
            "",
            "Stacktrace:",
            " [1] Gray(x::Vector{Any})",
            "   @ ColorTypes ~/.julia/packages/ColorTypes/1dGw6/src/types.jl:464",
            " [2] top-level scope",
            "   @ In[43]:12"
          ]
        }
      ]
    }
  ]
}